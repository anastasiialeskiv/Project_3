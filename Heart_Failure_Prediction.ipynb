{
 "cells": [
  {
   "cell_type": "markdown",
   "id": "d390db7d",
   "metadata": {},
   "source": [
    "# Business Understanding "
   ]
  },
  {
   "cell_type": "markdown",
   "id": "999ce21d",
   "metadata": {},
   "source": []
  },
  {
   "cell_type": "markdown",
   "id": "21fa30fd",
   "metadata": {},
   "source": [
    "# Data Understanding"
   ]
  },
  {
   "cell_type": "markdown",
   "id": "33533b6c",
   "metadata": {},
   "source": []
  },
  {
   "cell_type": "markdown",
   "id": "836a3505",
   "metadata": {},
   "source": [
    "# Data Preparation"
   ]
  },
  {
   "cell_type": "markdown",
   "id": "e21570b5",
   "metadata": {},
   "source": []
  },
  {
   "cell_type": "markdown",
   "id": "6871a596",
   "metadata": {},
   "source": [
    "# Modeling"
   ]
  },
  {
   "cell_type": "markdown",
   "id": "f525e86b",
   "metadata": {},
   "source": []
  },
  {
   "cell_type": "markdown",
   "id": "e0944f3f",
   "metadata": {},
   "source": [
    "# Evaluation"
   ]
  },
  {
   "cell_type": "markdown",
   "id": "5fb8d9c8",
   "metadata": {},
   "source": []
  },
  {
   "cell_type": "markdown",
   "id": "6a3c76b5",
   "metadata": {},
   "source": [
    "# Code Quality"
   ]
  },
  {
   "cell_type": "markdown",
   "id": "e384a198",
   "metadata": {},
   "source": []
  },
  {
   "cell_type": "markdown",
   "id": "40de5c9e",
   "metadata": {},
   "source": [
    "# Conclusions"
   ]
  },
  {
   "cell_type": "markdown",
   "id": "a4048235",
   "metadata": {},
   "source": [
    "## Next Step"
   ]
  },
  {
   "cell_type": "markdown",
   "id": "d58d04e1",
   "metadata": {},
   "source": []
  }
 ],
 "metadata": {
  "kernelspec": {
   "display_name": "Python (learn-env)",
   "language": "python",
   "name": "learn-env"
  },
  "language_info": {
   "codemirror_mode": {
    "name": "ipython",
    "version": 3
   },
   "file_extension": ".py",
   "mimetype": "text/x-python",
   "name": "python",
   "nbconvert_exporter": "python",
   "pygments_lexer": "ipython3",
   "version": "3.9.13"
  }
 },
 "nbformat": 4,
 "nbformat_minor": 5
}
