{
 "cells": [
  {
   "cell_type": "markdown",
   "id": "68f4d315",
   "metadata": {},
   "source": [
    "Anastasiia Leskiv"
   ]
  },
  {
   "cell_type": "markdown",
   "id": "d390db7d",
   "metadata": {},
   "source": [
    "# Business Understanding "
   ]
  },
  {
   "cell_type": "markdown",
   "id": "52b1806d",
   "metadata": {},
   "source": [
    "More than 16 million people have heart disease and it’s only in the USA. About 7 percent of Americans aged 20 and older have CHD. Together with the health care organization we decided to create a classification model to predict whether or not patients have a heart disease. I used a Heart disease data set which contained thousands of data points. I built classification algorithms and then I selected the best model to present to my client. In this project I was focusing on the best accuracy of the model."
   ]
  },
  {
   "cell_type": "markdown",
   "id": "21fa30fd",
   "metadata": {},
   "source": [
    "# Data Understanding"
   ]
  },
  {
   "cell_type": "markdown",
   "id": "8189a62a",
   "metadata": {},
   "source": [
    "First I performed some exploratory data analysis to see which features will be useful to create a classification model wich I will use for my future  prediction. After I built my model I used functions to find the best scoring. I used Cross Validation of the model to check the validity of the model. I used my model to test data and predict whether of not patient has heart disease."
   ]
  },
  {
   "cell_type": "markdown",
   "id": "999ce21d",
   "metadata": {},
   "source": [
    "### Features: \n",
    "\n",
    "\n",
    "Age: age of the patient [years]\n",
    "\n",
    "Sex: sex of the patient [M: Male, F: Female]\n",
    "\n",
    "ChestPainType: chest pain type [TA: Typical Angina, ATA: Atypical Angina, NAP: Non-Anginal Pain, ASY: Asymptomatic]\n",
    "\n",
    "RestingBP: resting blood pressure [mm Hg]\n",
    "\n",
    "Cholesterol: serum cholesterol [mm/dl]\n",
    "\n",
    "FastingBS: fasting blood sugar [1: if FastingBS > 120 mg/dl, 0: otherwise]\n",
    "\n",
    "RestingECG: resting electrocardiogram results [Normal: Normal, ST: having ST-T wave abnormality (T wave inversions and/or ST elevation or depression of > 0.05 mV), LVH: showing probable or definite left ventricular hypertrophy by Estes' criteria]\n",
    "\n",
    "MaxHR: maximum heart rate achieved [Numeric value between 60 and 202]\n",
    "\n",
    "ExerciseAngina: exercise-induced angina [Y: Yes, N: No]\n",
    "\n",
    "Oldpeak: oldpeak = ST [Numeric value measured in depression]\n",
    "\n",
    "ST_Slope: the slope of the peak exercise ST segment [Up: upsloping, Flat: flat, Down: downsloping]\n",
    "\n",
    "HeartDisease: output class [1: heart disease, 0: Normal]"
   ]
  },
  {
   "cell_type": "markdown",
   "id": "a7a86a57",
   "metadata": {},
   "source": [
    "# Data Preparation"
   ]
  },
  {
   "cell_type": "markdown",
   "id": "d9d4d579",
   "metadata": {},
   "source": [
    "First of all I will import all necessary libraries"
   ]
  },
  {
   "cell_type": "code",
   "execution_count": 1,
   "id": "df324608",
   "metadata": {},
   "outputs": [],
   "source": [
    "# import all necessary libraries\n",
    "import numpy as np # for data matipulation\n",
    "import pandas as pd # for data matipulation\n",
    "import matplotlib.pyplot as plt#for plotting\n",
    "%matplotlib inline#for plotting\n",
    "import numpy as np #for data matipulation\n",
    "import matplotlib.pyplot as plt#for plotting\n",
    "import seaborn as sns#for plotting\n",
    "%matplotlib inline#for plotting\n",
    "from sklearn.model_selection import train_test_split # for modeling \n",
    "from sklearn.linear_model import LogisticRegression# for modeling \n",
    "from sklearn.metrics import confusion_matrix# for modeling \n",
    "from sklearn.metrics import classification_report# for modeling \n",
    "import warnings\n",
    "warnings.filterwarnings('ignore') # for warning ignoring\n",
    "import sklearn.metrics as metrics# for modeling \n",
    "from sklearn.metrics import accuracy_score# for modeling \n",
    "from six import StringIO #used as input or output to the most function that would expect a standard file object\n",
    "from IPython.display import Image \n",
    "from sklearn.tree import export_graphviz# for modeling \n",
    "from sklearn.model_selection import cross_val_score# for modeling \n",
    "import seaborn as sns#for plotting\n",
    "from sklearn.tree import DecisionTreeClassifier# for modeling  \n",
    "from tqdm import tqdm\n",
    "from sklearn.ensemble import RandomForestClassifier# for modeling "
   ]
  },
  {
   "cell_type": "markdown",
   "id": "c40dda44",
   "metadata": {},
   "source": [
    "Before starting modeling I want to do some exploratory data analysis to see which features will be useful to create a classification model which I will use for my future prediction. "
   ]
  },
  {
   "cell_type": "code",
   "execution_count": 2,
   "id": "7a3bbf14",
   "metadata": {},
   "outputs": [
    {
     "data": {
      "text/html": [
       "<div>\n",
       "<style scoped>\n",
       "    .dataframe tbody tr th:only-of-type {\n",
       "        vertical-align: middle;\n",
       "    }\n",
       "\n",
       "    .dataframe tbody tr th {\n",
       "        vertical-align: top;\n",
       "    }\n",
       "\n",
       "    .dataframe thead th {\n",
       "        text-align: right;\n",
       "    }\n",
       "</style>\n",
       "<table border=\"1\" class=\"dataframe\">\n",
       "  <thead>\n",
       "    <tr style=\"text-align: right;\">\n",
       "      <th></th>\n",
       "      <th>Age</th>\n",
       "      <th>Sex</th>\n",
       "      <th>ChestPainType</th>\n",
       "      <th>RestingBP</th>\n",
       "      <th>Cholesterol</th>\n",
       "      <th>FastingBS</th>\n",
       "      <th>RestingECG</th>\n",
       "      <th>MaxHR</th>\n",
       "      <th>ExerciseAngina</th>\n",
       "      <th>Oldpeak</th>\n",
       "      <th>ST_Slope</th>\n",
       "      <th>HeartDisease</th>\n",
       "    </tr>\n",
       "  </thead>\n",
       "  <tbody>\n",
       "    <tr>\n",
       "      <th>0</th>\n",
       "      <td>40</td>\n",
       "      <td>M</td>\n",
       "      <td>ATA</td>\n",
       "      <td>140</td>\n",
       "      <td>289</td>\n",
       "      <td>0</td>\n",
       "      <td>Normal</td>\n",
       "      <td>172</td>\n",
       "      <td>N</td>\n",
       "      <td>0.0</td>\n",
       "      <td>Up</td>\n",
       "      <td>0</td>\n",
       "    </tr>\n",
       "    <tr>\n",
       "      <th>1</th>\n",
       "      <td>49</td>\n",
       "      <td>F</td>\n",
       "      <td>NAP</td>\n",
       "      <td>160</td>\n",
       "      <td>180</td>\n",
       "      <td>0</td>\n",
       "      <td>Normal</td>\n",
       "      <td>156</td>\n",
       "      <td>N</td>\n",
       "      <td>1.0</td>\n",
       "      <td>Flat</td>\n",
       "      <td>1</td>\n",
       "    </tr>\n",
       "    <tr>\n",
       "      <th>2</th>\n",
       "      <td>37</td>\n",
       "      <td>M</td>\n",
       "      <td>ATA</td>\n",
       "      <td>130</td>\n",
       "      <td>283</td>\n",
       "      <td>0</td>\n",
       "      <td>ST</td>\n",
       "      <td>98</td>\n",
       "      <td>N</td>\n",
       "      <td>0.0</td>\n",
       "      <td>Up</td>\n",
       "      <td>0</td>\n",
       "    </tr>\n",
       "    <tr>\n",
       "      <th>3</th>\n",
       "      <td>48</td>\n",
       "      <td>F</td>\n",
       "      <td>ASY</td>\n",
       "      <td>138</td>\n",
       "      <td>214</td>\n",
       "      <td>0</td>\n",
       "      <td>Normal</td>\n",
       "      <td>108</td>\n",
       "      <td>Y</td>\n",
       "      <td>1.5</td>\n",
       "      <td>Flat</td>\n",
       "      <td>1</td>\n",
       "    </tr>\n",
       "    <tr>\n",
       "      <th>4</th>\n",
       "      <td>54</td>\n",
       "      <td>M</td>\n",
       "      <td>NAP</td>\n",
       "      <td>150</td>\n",
       "      <td>195</td>\n",
       "      <td>0</td>\n",
       "      <td>Normal</td>\n",
       "      <td>122</td>\n",
       "      <td>N</td>\n",
       "      <td>0.0</td>\n",
       "      <td>Up</td>\n",
       "      <td>0</td>\n",
       "    </tr>\n",
       "  </tbody>\n",
       "</table>\n",
       "</div>"
      ],
      "text/plain": [
       "   Age Sex ChestPainType  RestingBP  Cholesterol  FastingBS RestingECG  MaxHR  \\\n",
       "0   40   M           ATA        140          289          0     Normal    172   \n",
       "1   49   F           NAP        160          180          0     Normal    156   \n",
       "2   37   M           ATA        130          283          0         ST     98   \n",
       "3   48   F           ASY        138          214          0     Normal    108   \n",
       "4   54   M           NAP        150          195          0     Normal    122   \n",
       "\n",
       "  ExerciseAngina  Oldpeak ST_Slope  HeartDisease  \n",
       "0              N      0.0       Up             0  \n",
       "1              N      1.0     Flat             1  \n",
       "2              N      0.0       Up             0  \n",
       "3              Y      1.5     Flat             1  \n",
       "4              N      0.0       Up             0  "
      ]
     },
     "execution_count": 2,
     "metadata": {},
     "output_type": "execute_result"
    }
   ],
   "source": [
    "# read CSV file and print 5 raws\n",
    "df = pd.read_csv('heart.csv')\n",
    "df.head()"
   ]
  },
  {
   "cell_type": "code",
   "execution_count": 3,
   "id": "ad982648",
   "metadata": {},
   "outputs": [
    {
     "name": "stdout",
     "output_type": "stream",
     "text": [
      "<class 'pandas.core.frame.DataFrame'>\n",
      "RangeIndex: 918 entries, 0 to 917\n",
      "Data columns (total 12 columns):\n",
      " #   Column          Non-Null Count  Dtype  \n",
      "---  ------          --------------  -----  \n",
      " 0   Age             918 non-null    int64  \n",
      " 1   Sex             918 non-null    object \n",
      " 2   ChestPainType   918 non-null    object \n",
      " 3   RestingBP       918 non-null    int64  \n",
      " 4   Cholesterol     918 non-null    int64  \n",
      " 5   FastingBS       918 non-null    int64  \n",
      " 6   RestingECG      918 non-null    object \n",
      " 7   MaxHR           918 non-null    int64  \n",
      " 8   ExerciseAngina  918 non-null    object \n",
      " 9   Oldpeak         918 non-null    float64\n",
      " 10  ST_Slope        918 non-null    object \n",
      " 11  HeartDisease    918 non-null    int64  \n",
      "dtypes: float64(1), int64(6), object(5)\n",
      "memory usage: 86.2+ KB\n"
     ]
    }
   ],
   "source": [
    "#print information about the DataFrame\n",
    "df.info()"
   ]
  },
  {
   "cell_type": "code",
   "execution_count": 4,
   "id": "989b0124",
   "metadata": {
    "scrolled": false
   },
   "outputs": [
    {
     "data": {
      "image/png": "[encoded data removed]",
      "text/plain": [
       "<Figure size 1600x1600 with 2 Axes>"
      ]
     },
     "metadata": {},
     "output_type": "display_data"
    }
   ],
   "source": [
    "# create a heatmap plot\n",
    "plt.figure(figsize=(16, 16))\n",
    "sns.heatmap(df.corr(), cmap=\"seismic\", annot=True, vmin=-1, vmax=1);"
   ]
  },
  {
   "cell_type": "markdown",
   "id": "1d534b45",
   "metadata": {},
   "source": [
    "Each square shows the correlation between the variables on each axis. Correlation ranges from -1 to +1. Values closer to zero means there is no linear trend between the two variables. The close to 1 the correlation is the more positively correlated they are; that is as one increases so does the other and the closer to 1 the stronger this relationship is. A correlation closer to -1 is similar, but instead of both increasing one variable will decrease as the other increases. The diagonals are all 1/dark  because those squares are correlating each variable to itself (so it's a perfect correlation). For the rest the larger the number and darker the color the higher the correlation between the two variables. "
   ]
  },
  {
   "cell_type": "markdown",
   "id": "2af9df70",
   "metadata": {},
   "source": [
    "I noticed that a lot of data types are not numerical, so I will have to convert it to be numerical. "
   ]
  },
  {
   "cell_type": "code",
   "execution_count": 5,
   "id": "41f1e135",
   "metadata": {},
   "outputs": [],
   "source": [
    "# converting data type to be numerical\n",
    "df['Sex'][df['Sex'] == 0] = 'female'\n",
    "df['Sex'][df['Sex'] == 1] = 'male'\n",
    "df['ChestPainType'][df['ChestPainType'] == 1] = 'typical angina'\n",
    "df['ChestPainType'][df['ChestPainType'] == 2] = 'atypical angina'\n",
    "df['ChestPainType'][df['ChestPainType'] == 3] = 'non-anginal pain'\n",
    "df['ChestPainType'][df['ChestPainType'] == 4] = 'asymptomatic'\n",
    "df['RestingECG'][df['RestingECG'] == 0] = 'normal'\n",
    "df['RestingECG'][df['RestingECG'] == 1] = 'ST-T wave abnormality'\n",
    "df['RestingECG'][df['RestingECG'] == 2] = 'left ventricular hypertrophy'\n",
    "df['ExerciseAngina'][df['ExerciseAngina'] == 0] = 'Yes'\n",
    "df['ExerciseAngina'][df['ExerciseAngina'] == 1] = 'No'\n",
    "df['ST_Slope'][df['ST_Slope'] == 1] = 'upsloping'\n",
    "df['ST_Slope'][df['ST_Slope'] == 2] = 'flat'\n",
    "df['ST_Slope'][df['ST_Slope'] == 3] = 'downsloping'"
   ]
  },
  {
   "cell_type": "code",
   "execution_count": 6,
   "id": "085e0345",
   "metadata": {},
   "outputs": [
    {
     "name": "stdout",
     "output_type": "stream",
     "text": [
      "<class 'pandas.core.frame.DataFrame'>\n",
      "RangeIndex: 918 entries, 0 to 917\n",
      "Data columns (total 12 columns):\n",
      " #   Column          Non-Null Count  Dtype  \n",
      "---  ------          --------------  -----  \n",
      " 0   Age             918 non-null    int64  \n",
      " 1   Sex             918 non-null    object \n",
      " 2   ChestPainType   918 non-null    object \n",
      " 3   RestingBP       918 non-null    int64  \n",
      " 4   Cholesterol     918 non-null    int64  \n",
      " 5   FastingBS       918 non-null    int64  \n",
      " 6   RestingECG      918 non-null    object \n",
      " 7   MaxHR           918 non-null    int64  \n",
      " 8   ExerciseAngina  918 non-null    object \n",
      " 9   Oldpeak         918 non-null    float64\n",
      " 10  ST_Slope        918 non-null    object \n",
      " 11  HeartDisease    918 non-null    int64  \n",
      "dtypes: float64(1), int64(6), object(5)\n",
      "memory usage: 86.2+ KB\n"
     ]
    }
   ],
   "source": [
    "df.info()"
   ]
  },
  {
   "cell_type": "code",
   "execution_count": 7,
   "id": "fac8f7c6",
   "metadata": {},
   "outputs": [],
   "source": [
    "df['Sex'] = df['Sex'].astype('object')\n",
    "df['ChestPainType'] = df['ChestPainType'].astype('object')\n",
    "df['RestingECG'] = df['RestingECG'].astype('object')\n",
    "df['ExerciseAngina'] = df['ExerciseAngina'].astype('object')\n",
    "df['ST_Slope'] = df['ST_Slope'].astype('object')"
   ]
  },
  {
   "cell_type": "code",
   "execution_count": 8,
   "id": "53f54c18",
   "metadata": {},
   "outputs": [
    {
     "name": "stdout",
     "output_type": "stream",
     "text": [
      "<class 'pandas.core.frame.DataFrame'>\n",
      "RangeIndex: 918 entries, 0 to 917\n",
      "Data columns (total 12 columns):\n",
      " #   Column          Non-Null Count  Dtype  \n",
      "---  ------          --------------  -----  \n",
      " 0   Age             918 non-null    int64  \n",
      " 1   Sex             918 non-null    object \n",
      " 2   ChestPainType   918 non-null    object \n",
      " 3   RestingBP       918 non-null    int64  \n",
      " 4   Cholesterol     918 non-null    int64  \n",
      " 5   FastingBS       918 non-null    int64  \n",
      " 6   RestingECG      918 non-null    object \n",
      " 7   MaxHR           918 non-null    int64  \n",
      " 8   ExerciseAngina  918 non-null    object \n",
      " 9   Oldpeak         918 non-null    float64\n",
      " 10  ST_Slope        918 non-null    object \n",
      " 11  HeartDisease    918 non-null    int64  \n",
      "dtypes: float64(1), int64(6), object(5)\n",
      "memory usage: 86.2+ KB\n"
     ]
    }
   ],
   "source": [
    "df.info()"
   ]
  },
  {
   "cell_type": "markdown",
   "id": "4142c972",
   "metadata": {},
   "source": [
    "Using \n",
    "get_dummies()function  which will return dummy-coded data. I use parameter drop_first = True, this will drop the first dummy variable, thus it will give n-1 dummies out of n discrete categorical levels by removing the first level."
   ]
  },
  {
   "cell_type": "code",
   "execution_count": 9,
   "id": "c2588b92",
   "metadata": {},
   "outputs": [],
   "source": [
    "#drop the first category\n",
    "df = pd.get_dummies(df, drop_first=True)"
   ]
  },
  {
   "cell_type": "code",
   "execution_count": 10,
   "id": "150baaaa",
   "metadata": {
    "scrolled": true
   },
   "outputs": [
    {
     "data": {
      "text/html": [
       "<div>\n",
       "<style scoped>\n",
       "    .dataframe tbody tr th:only-of-type {\n",
       "        vertical-align: middle;\n",
       "    }\n",
       "\n",
       "    .dataframe tbody tr th {\n",
       "        vertical-align: top;\n",
       "    }\n",
       "\n",
       "    .dataframe thead th {\n",
       "        text-align: right;\n",
       "    }\n",
       "</style>\n",
       "<table border=\"1\" class=\"dataframe\">\n",
       "  <thead>\n",
       "    <tr style=\"text-align: right;\">\n",
       "      <th></th>\n",
       "      <th>Age</th>\n",
       "      <th>RestingBP</th>\n",
       "      <th>Cholesterol</th>\n",
       "      <th>FastingBS</th>\n",
       "      <th>MaxHR</th>\n",
       "      <th>Oldpeak</th>\n",
       "      <th>HeartDisease</th>\n",
       "      <th>Sex_M</th>\n",
       "      <th>ChestPainType_ATA</th>\n",
       "      <th>ChestPainType_NAP</th>\n",
       "      <th>ChestPainType_TA</th>\n",
       "      <th>RestingECG_Normal</th>\n",
       "      <th>RestingECG_ST</th>\n",
       "      <th>ExerciseAngina_Y</th>\n",
       "      <th>ST_Slope_Flat</th>\n",
       "      <th>ST_Slope_Up</th>\n",
       "    </tr>\n",
       "  </thead>\n",
       "  <tbody>\n",
       "    <tr>\n",
       "      <th>0</th>\n",
       "      <td>40</td>\n",
       "      <td>140</td>\n",
       "      <td>289</td>\n",
       "      <td>0</td>\n",
       "      <td>172</td>\n",
       "      <td>0.0</td>\n",
       "      <td>0</td>\n",
       "      <td>1</td>\n",
       "      <td>1</td>\n",
       "      <td>0</td>\n",
       "      <td>0</td>\n",
       "      <td>1</td>\n",
       "      <td>0</td>\n",
       "      <td>0</td>\n",
       "      <td>0</td>\n",
       "      <td>1</td>\n",
       "    </tr>\n",
       "    <tr>\n",
       "      <th>1</th>\n",
       "      <td>49</td>\n",
       "      <td>160</td>\n",
       "      <td>180</td>\n",
       "      <td>0</td>\n",
       "      <td>156</td>\n",
       "      <td>1.0</td>\n",
       "      <td>1</td>\n",
       "      <td>0</td>\n",
       "      <td>0</td>\n",
       "      <td>1</td>\n",
       "      <td>0</td>\n",
       "      <td>1</td>\n",
       "      <td>0</td>\n",
       "      <td>0</td>\n",
       "      <td>1</td>\n",
       "      <td>0</td>\n",
       "    </tr>\n",
       "    <tr>\n",
       "      <th>2</th>\n",
       "      <td>37</td>\n",
       "      <td>130</td>\n",
       "      <td>283</td>\n",
       "      <td>0</td>\n",
       "      <td>98</td>\n",
       "      <td>0.0</td>\n",
       "      <td>0</td>\n",
       "      <td>1</td>\n",
       "      <td>1</td>\n",
       "      <td>0</td>\n",
       "      <td>0</td>\n",
       "      <td>0</td>\n",
       "      <td>1</td>\n",
       "      <td>0</td>\n",
       "      <td>0</td>\n",
       "      <td>1</td>\n",
       "    </tr>\n",
       "    <tr>\n",
       "      <th>3</th>\n",
       "      <td>48</td>\n",
       "      <td>138</td>\n",
       "      <td>214</td>\n",
       "      <td>0</td>\n",
       "      <td>108</td>\n",
       "      <td>1.5</td>\n",
       "      <td>1</td>\n",
       "      <td>0</td>\n",
       "      <td>0</td>\n",
       "      <td>0</td>\n",
       "      <td>0</td>\n",
       "      <td>1</td>\n",
       "      <td>0</td>\n",
       "      <td>1</td>\n",
       "      <td>1</td>\n",
       "      <td>0</td>\n",
       "    </tr>\n",
       "    <tr>\n",
       "      <th>4</th>\n",
       "      <td>54</td>\n",
       "      <td>150</td>\n",
       "      <td>195</td>\n",
       "      <td>0</td>\n",
       "      <td>122</td>\n",
       "      <td>0.0</td>\n",
       "      <td>0</td>\n",
       "      <td>1</td>\n",
       "      <td>0</td>\n",
       "      <td>1</td>\n",
       "      <td>0</td>\n",
       "      <td>1</td>\n",
       "      <td>0</td>\n",
       "      <td>0</td>\n",
       "      <td>0</td>\n",
       "      <td>1</td>\n",
       "    </tr>\n",
       "  </tbody>\n",
       "</table>\n",
       "</div>"
      ],
      "text/plain": [
       "   Age  RestingBP  Cholesterol  FastingBS  MaxHR  Oldpeak  HeartDisease  \\\n",
       "0   40        140          289          0    172      0.0             0   \n",
       "1   49        160          180          0    156      1.0             1   \n",
       "2   37        130          283          0     98      0.0             0   \n",
       "3   48        138          214          0    108      1.5             1   \n",
       "4   54        150          195          0    122      0.0             0   \n",
       "\n",
       "   Sex_M  ChestPainType_ATA  ChestPainType_NAP  ChestPainType_TA  \\\n",
       "0      1                  1                  0                 0   \n",
       "1      0                  0                  1                 0   \n",
       "2      1                  1                  0                 0   \n",
       "3      0                  0                  0                 0   \n",
       "4      1                  0                  1                 0   \n",
       "\n",
       "   RestingECG_Normal  RestingECG_ST  ExerciseAngina_Y  ST_Slope_Flat  \\\n",
       "0                  1              0                 0              0   \n",
       "1                  1              0                 0              1   \n",
       "2                  0              1                 0              0   \n",
       "3                  1              0                 1              1   \n",
       "4                  1              0                 0              0   \n",
       "\n",
       "   ST_Slope_Up  \n",
       "0            1  \n",
       "1            0  \n",
       "2            1  \n",
       "3            0  \n",
       "4            1  "
      ]
     },
     "execution_count": 10,
     "metadata": {},
     "output_type": "execute_result"
    }
   ],
   "source": [
    "#checkind columns\n",
    "df.head()"
   ]
  },
  {
   "cell_type": "code",
   "execution_count": 11,
   "id": "9b2e1a96",
   "metadata": {},
   "outputs": [
    {
     "name": "stdout",
     "output_type": "stream",
     "text": [
      "<class 'pandas.core.frame.DataFrame'>\n",
      "RangeIndex: 918 entries, 0 to 917\n",
      "Data columns (total 16 columns):\n",
      " #   Column             Non-Null Count  Dtype  \n",
      "---  ------             --------------  -----  \n",
      " 0   Age                918 non-null    int64  \n",
      " 1   RestingBP          918 non-null    int64  \n",
      " 2   Cholesterol        918 non-null    int64  \n",
      " 3   FastingBS          918 non-null    int64  \n",
      " 4   MaxHR              918 non-null    int64  \n",
      " 5   Oldpeak            918 non-null    float64\n",
      " 6   HeartDisease       918 non-null    int64  \n",
      " 7   Sex_M              918 non-null    uint8  \n",
      " 8   ChestPainType_ATA  918 non-null    uint8  \n",
      " 9   ChestPainType_NAP  918 non-null    uint8  \n",
      " 10  ChestPainType_TA   918 non-null    uint8  \n",
      " 11  RestingECG_Normal  918 non-null    uint8  \n",
      " 12  RestingECG_ST      918 non-null    uint8  \n",
      " 13  ExerciseAngina_Y   918 non-null    uint8  \n",
      " 14  ST_Slope_Flat      918 non-null    uint8  \n",
      " 15  ST_Slope_Up        918 non-null    uint8  \n",
      "dtypes: float64(1), int64(6), uint8(9)\n",
      "memory usage: 58.4 KB\n"
     ]
    }
   ],
   "source": [
    "#checking info \n",
    "df.info()"
   ]
  },
  {
   "cell_type": "markdown",
   "id": "5be9d67f",
   "metadata": {},
   "source": [
    "Looks grate, now I want to use Seabon.countplot to display the count of categorical observations in each bin in the dataset. A count plot resembles a histogram over a categorical variable as opposed to a quantitative one."
   ]
  },
  {
   "cell_type": "code",
   "execution_count": 12,
   "id": "18b4507a",
   "metadata": {},
   "outputs": [
    {
     "data": {
      "image/png": "[encoded data removed]",
      "text/plain": [
       "<Figure size 640x480 with 1 Axes>"
      ]
     },
     "metadata": {},
     "output_type": "display_data"
    }
   ],
   "source": [
    "# Ploting countplot to compare people with and without disease \n",
    "sns.countplot(x=\"HeartDisease\", data=df, palette=\"pastel\")\n",
    "plt.show()"
   ]
  },
  {
   "cell_type": "markdown",
   "id": "449786a2",
   "metadata": {},
   "source": [
    "Next, I want to see percentage of peaople with and without heart disease for that I will use len() function"
   ]
  },
  {
   "cell_type": "code",
   "execution_count": 13,
   "id": "a60449f5",
   "metadata": {},
   "outputs": [
    {
     "name": "stdout",
     "output_type": "stream",
     "text": [
      "Percent of people without Heart Disease: 44.66%\n",
      "Percent of people with Heart Disease: 55.34%\n"
     ]
    }
   ],
   "source": [
    "without_disease = len(df[df.HeartDisease == 0])\n",
    "with_disease = len(df[df.HeartDisease == 1])\n",
    "print(\"Percent of people without Heart Disease: {:.2f}%\".format((without_disease / (len(df.HeartDisease))*100)))\n",
    "print(\"Percent of people with Heart Disease: {:.2f}%\".format((with_disease / (len(df.HeartDisease))*100)))"
   ]
  },
  {
   "cell_type": "markdown",
   "id": "cec16aa6",
   "metadata": {},
   "source": [
    "Looks like we have 44.66% without Heart Disease and 55.34% with Heart Disease"
   ]
  },
  {
   "cell_type": "code",
   "execution_count": 14,
   "id": "8f2f29eb",
   "metadata": {},
   "outputs": [
    {
     "data": {
      "image/png": "[encoded data removed]",
      "text/plain": [
       "<Figure size 640x480 with 1 Axes>"
      ]
     },
     "metadata": {},
     "output_type": "display_data"
    }
   ],
   "source": [
    "# Ploting countplot to compare gender of people  with heart disease \n",
    "sns.countplot(x='Sex_M', data=df, palette=\"pastel\")\n",
    "plt.xlabel(\"Sex_M (0 = female, 1= male)\")\n",
    "plt.show()"
   ]
  },
  {
   "cell_type": "markdown",
   "id": "5b79fb7a",
   "metadata": {},
   "source": [
    "We can see that in our data set we have more males with heart disease then females. Let's check precentage"
   ]
  },
  {
   "cell_type": "code",
   "execution_count": 15,
   "id": "cd9d5d32",
   "metadata": {},
   "outputs": [
    {
     "name": "stdout",
     "output_type": "stream",
     "text": [
      "Female Proscentage: 21.02%\n",
      "Male Percentage: 78.98%\n"
     ]
    }
   ],
   "source": [
    "Female = len(df[df.Sex_M == 0])\n",
    "Male = len(df[df.Sex_M == 1])\n",
    "print(\"Female Proscentage: {:.2f}%\".format((Female / (len(df.Sex_M))*100)))\n",
    "print(\"Male Percentage: {:.2f}%\".format((Male / (len(df.Sex_M))*100)))"
   ]
  },
  {
   "cell_type": "markdown",
   "id": "bc33314d",
   "metadata": {},
   "source": [
    "Using crosstab plot to see Number of patients with Heart Disease based on age where 0-no disease 1-with disease."
   ]
  },
  {
   "cell_type": "code",
   "execution_count": 16,
   "id": "0ee4d848",
   "metadata": {},
   "outputs": [
    {
     "data": {
      "image/png": "[encoded data removed]",
      "text/plain": [
       "<Figure size 2000x600 with 1 Axes>"
      ]
     },
     "metadata": {},
     "output_type": "display_data"
    }
   ],
   "source": [
    "# plating crosstab plot\n",
    "pd.crosstab(df.Age,df.HeartDisease).plot(kind=\"bar\",figsize=(20,6))\n",
    "plt.title('Heart Disease Ages')\n",
    "plt.xlabel('Age')\n",
    "plt.ylabel('Number of patients with Heart Disease')\n",
    "plt.show()"
   ]
  },
  {
   "cell_type": "markdown",
   "id": "ed2f84a7",
   "metadata": {},
   "source": [
    "Here I can see that  people have heart disease at the age of 50-65 it very rarely happens to young people."
   ]
  },
  {
   "cell_type": "code",
   "execution_count": 17,
   "id": "40cd841b",
   "metadata": {
    "scrolled": true
   },
   "outputs": [
    {
     "data": {
      "image/png": "[encoded data removed]",
      "text/plain": [
       "<Figure size 1500x600 with 1 Axes>"
      ]
     },
     "metadata": {},
     "output_type": "display_data"
    }
   ],
   "source": [
    "#ploting crosstab to see gender for people with and t=without heart disease\n",
    "pd.crosstab(df.Sex_M,df.HeartDisease).plot(kind=\"bar\",figsize=(15,6),color=['lightgreen','red' ])\n",
    "plt.title('Heart Disease by Gender')\n",
    "plt.xlabel('Gender(0 = Female, 1 = Male)')\n",
    "plt.xticks(rotation=0)\n",
    "plt.legend([\"No Disease\", \"Disease\"])\n",
    "plt.ylabel('Frequency')\n",
    "plt.show()"
   ]
  },
  {
   "cell_type": "markdown",
   "id": "c22b2c97",
   "metadata": {},
   "source": [
    "Here I can see again most female don't have a Heart disease but fot males there is a lot of cases with heart diseas. "
   ]
  },
  {
   "cell_type": "code",
   "execution_count": 18,
   "id": "6f9ef6c2",
   "metadata": {},
   "outputs": [
    {
     "data": {
      "image/png": "[encoded data removed]",
      "text/plain": [
       "<Figure size 1500x600 with 1 Axes>"
      ]
     },
     "metadata": {},
     "output_type": "display_data"
    }
   ],
   "source": [
    "#Checking Heart Disease cases based on sugar lavel\n",
    "pd.crosstab(df.FastingBS,df.HeartDisease).plot(kind=\"bar\",figsize=(15,6),color=[\"lightgreen\",\"red\" ])\n",
    "plt.title('Heart Disease Frequency According To Fasting Lavel of Blood Sugar')\n",
    "plt.xlabel('Fasting Lavel of Blood Sugar [1: if FastingBS > 120 mg/dl, 0: otherwise]')\n",
    "plt.xticks(rotation = 0)\n",
    "plt.legend([\"NO Disease\", \" Disease\"])\n",
    "plt.ylabel('Frequency')\n",
    "plt.show()"
   ]
  },
  {
   "cell_type": "markdown",
   "id": "b54035b0",
   "metadata": {},
   "source": [
    "If fasting Lavel of sugar more then 120 mg/dl people with heart disease almost 3 times more then without "
   ]
  },
  {
   "cell_type": "code",
   "execution_count": 19,
   "id": "3d384db8",
   "metadata": {
    "scrolled": false
   },
   "outputs": [
    {
     "data": {
      "image/png": "[encoded data removed]",
      "text/plain": [
       "<Figure size 1500x600 with 1 Axes>"
      ]
     },
     "metadata": {},
     "output_type": "display_data"
    }
   ],
   "source": [
    "#Checking Heart Disease cases based on Exercise Angina\n",
    "pd.crosstab(df.ExerciseAngina_Y,df.HeartDisease).plot(kind=\"bar\",figsize=(15,6),color=[\"lightgreen\",\"red\" ])\n",
    "plt.title('Heart Disease Frequency exercise-induced angina ')\n",
    "plt.xlabel('ExerciseAngina: exercise-induced angina [1: Yes, 0: No]')\n",
    "plt.xticks(rotation = 0)\n",
    "plt.legend([\"NO Disease\", \" Disease\"])\n",
    "plt.ylabel('Frequency')\n",
    "plt.show()"
   ]
  },
  {
   "cell_type": "markdown",
   "id": "7d6113f5",
   "metadata": {},
   "source": [
    "People with Angina defenatly have a risk to get Heart Disease "
   ]
  },
  {
   "cell_type": "markdown",
   "id": "102ee46d",
   "metadata": {},
   "source": [
    "# RANDOM Forest Algorithm"
   ]
  },
  {
   "cell_type": "markdown",
   "id": "afc0038c",
   "metadata": {},
   "source": [
    "For the categorical varibles, we need to create dummy variables. I'm also going to drop the first category of each. For example, rather than having 'male' and 'female', we'll have 'male' with values of 0 or 1 (1 being male, and 0 therefore being female)."
   ]
  },
  {
   "cell_type": "code",
   "execution_count": 20,
   "id": "bbb5afa7",
   "metadata": {},
   "outputs": [],
   "source": [
    "df = pd.get_dummies(df, drop_first=True)"
   ]
  },
  {
   "cell_type": "code",
   "execution_count": 21,
   "id": "bdee983d",
   "metadata": {},
   "outputs": [
    {
     "data": {
      "text/html": [
       "<div>\n",
       "<style scoped>\n",
       "    .dataframe tbody tr th:only-of-type {\n",
       "        vertical-align: middle;\n",
       "    }\n",
       "\n",
       "    .dataframe tbody tr th {\n",
       "        vertical-align: top;\n",
       "    }\n",
       "\n",
       "    .dataframe thead th {\n",
       "        text-align: right;\n",
       "    }\n",
       "</style>\n",
       "<table border=\"1\" class=\"dataframe\">\n",
       "  <thead>\n",
       "    <tr style=\"text-align: right;\">\n",
       "      <th></th>\n",
       "      <th>Age</th>\n",
       "      <th>RestingBP</th>\n",
       "      <th>Cholesterol</th>\n",
       "      <th>FastingBS</th>\n",
       "      <th>MaxHR</th>\n",
       "      <th>Oldpeak</th>\n",
       "      <th>HeartDisease</th>\n",
       "      <th>Sex_M</th>\n",
       "      <th>ChestPainType_ATA</th>\n",
       "      <th>ChestPainType_NAP</th>\n",
       "      <th>ChestPainType_TA</th>\n",
       "      <th>RestingECG_Normal</th>\n",
       "      <th>RestingECG_ST</th>\n",
       "      <th>ExerciseAngina_Y</th>\n",
       "      <th>ST_Slope_Flat</th>\n",
       "      <th>ST_Slope_Up</th>\n",
       "    </tr>\n",
       "  </thead>\n",
       "  <tbody>\n",
       "    <tr>\n",
       "      <th>0</th>\n",
       "      <td>40</td>\n",
       "      <td>140</td>\n",
       "      <td>289</td>\n",
       "      <td>0</td>\n",
       "      <td>172</td>\n",
       "      <td>0.0</td>\n",
       "      <td>0</td>\n",
       "      <td>1</td>\n",
       "      <td>1</td>\n",
       "      <td>0</td>\n",
       "      <td>0</td>\n",
       "      <td>1</td>\n",
       "      <td>0</td>\n",
       "      <td>0</td>\n",
       "      <td>0</td>\n",
       "      <td>1</td>\n",
       "    </tr>\n",
       "    <tr>\n",
       "      <th>1</th>\n",
       "      <td>49</td>\n",
       "      <td>160</td>\n",
       "      <td>180</td>\n",
       "      <td>0</td>\n",
       "      <td>156</td>\n",
       "      <td>1.0</td>\n",
       "      <td>1</td>\n",
       "      <td>0</td>\n",
       "      <td>0</td>\n",
       "      <td>1</td>\n",
       "      <td>0</td>\n",
       "      <td>1</td>\n",
       "      <td>0</td>\n",
       "      <td>0</td>\n",
       "      <td>1</td>\n",
       "      <td>0</td>\n",
       "    </tr>\n",
       "    <tr>\n",
       "      <th>2</th>\n",
       "      <td>37</td>\n",
       "      <td>130</td>\n",
       "      <td>283</td>\n",
       "      <td>0</td>\n",
       "      <td>98</td>\n",
       "      <td>0.0</td>\n",
       "      <td>0</td>\n",
       "      <td>1</td>\n",
       "      <td>1</td>\n",
       "      <td>0</td>\n",
       "      <td>0</td>\n",
       "      <td>0</td>\n",
       "      <td>1</td>\n",
       "      <td>0</td>\n",
       "      <td>0</td>\n",
       "      <td>1</td>\n",
       "    </tr>\n",
       "    <tr>\n",
       "      <th>3</th>\n",
       "      <td>48</td>\n",
       "      <td>138</td>\n",
       "      <td>214</td>\n",
       "      <td>0</td>\n",
       "      <td>108</td>\n",
       "      <td>1.5</td>\n",
       "      <td>1</td>\n",
       "      <td>0</td>\n",
       "      <td>0</td>\n",
       "      <td>0</td>\n",
       "      <td>0</td>\n",
       "      <td>1</td>\n",
       "      <td>0</td>\n",
       "      <td>1</td>\n",
       "      <td>1</td>\n",
       "      <td>0</td>\n",
       "    </tr>\n",
       "    <tr>\n",
       "      <th>4</th>\n",
       "      <td>54</td>\n",
       "      <td>150</td>\n",
       "      <td>195</td>\n",
       "      <td>0</td>\n",
       "      <td>122</td>\n",
       "      <td>0.0</td>\n",
       "      <td>0</td>\n",
       "      <td>1</td>\n",
       "      <td>0</td>\n",
       "      <td>1</td>\n",
       "      <td>0</td>\n",
       "      <td>1</td>\n",
       "      <td>0</td>\n",
       "      <td>0</td>\n",
       "      <td>0</td>\n",
       "      <td>1</td>\n",
       "    </tr>\n",
       "  </tbody>\n",
       "</table>\n",
       "</div>"
      ],
      "text/plain": [
       "   Age  RestingBP  Cholesterol  FastingBS  MaxHR  Oldpeak  HeartDisease  \\\n",
       "0   40        140          289          0    172      0.0             0   \n",
       "1   49        160          180          0    156      1.0             1   \n",
       "2   37        130          283          0     98      0.0             0   \n",
       "3   48        138          214          0    108      1.5             1   \n",
       "4   54        150          195          0    122      0.0             0   \n",
       "\n",
       "   Sex_M  ChestPainType_ATA  ChestPainType_NAP  ChestPainType_TA  \\\n",
       "0      1                  1                  0                 0   \n",
       "1      0                  0                  1                 0   \n",
       "2      1                  1                  0                 0   \n",
       "3      0                  0                  0                 0   \n",
       "4      1                  0                  1                 0   \n",
       "\n",
       "   RestingECG_Normal  RestingECG_ST  ExerciseAngina_Y  ST_Slope_Flat  \\\n",
       "0                  1              0                 0              0   \n",
       "1                  1              0                 0              1   \n",
       "2                  0              1                 0              0   \n",
       "3                  1              0                 1              1   \n",
       "4                  1              0                 0              0   \n",
       "\n",
       "   ST_Slope_Up  \n",
       "0            1  \n",
       "1            0  \n",
       "2            1  \n",
       "3            0  \n",
       "4            1  "
      ]
     },
     "execution_count": 21,
     "metadata": {},
     "output_type": "execute_result"
    }
   ],
   "source": [
    "#checking columns\n",
    "df.head()"
   ]
  },
  {
   "cell_type": "code",
   "execution_count": 22,
   "id": "d3894d69",
   "metadata": {},
   "outputs": [],
   "source": [
    "#split the data\n",
    "X_train, X_test, y_train, y_test = train_test_split(df.drop('HeartDisease', 1),\n",
    "                                                    df['HeartDisease'], test_size =\n",
    "                                                    0.25, random_state=27)"
   ]
  },
  {
   "cell_type": "code",
   "execution_count": 23,
   "id": "b04641f1",
   "metadata": {},
   "outputs": [
    {
     "data": {
      "text/plain": [
       "RandomForestClassifier(max_depth=5)"
      ]
     },
     "execution_count": 23,
     "metadata": {},
     "output_type": "execute_result"
    }
   ],
   "source": [
    "# runing RandomForestClassifier\n",
    "model = RandomForestClassifier(max_depth=5)\n",
    "model.fit(X_train, y_train)"
   ]
  },
  {
   "cell_type": "code",
   "execution_count": 24,
   "id": "f763b2d5",
   "metadata": {},
   "outputs": [],
   "source": [
    "#evaluate the model\n",
    "y_predict = model.predict(X_test)\n",
    "y_pred_quant = model.predict_proba(X_test)[:, 1]\n",
    "y_pred_bin = model.predict(X_test)"
   ]
  },
  {
   "cell_type": "code",
   "execution_count": 25,
   "id": "ae168cca",
   "metadata": {},
   "outputs": [
    {
     "data": {
      "text/plain": [
       "array([[ 86,  18],\n",
       "       [  7, 119]])"
      ]
     },
     "execution_count": 25,
     "metadata": {},
     "output_type": "execute_result"
    }
   ],
   "source": [
    "#Assess the fit with a confusion matrix\n",
    "confusion_matrix = confusion_matrix(y_test, y_pred_bin)\n",
    "confusion_matrix"
   ]
  },
  {
   "cell_type": "code",
   "execution_count": 26,
   "id": "10681116",
   "metadata": {},
   "outputs": [
    {
     "name": "stdout",
     "output_type": "stream",
     "text": [
      "Sensitivity :  0.9247311827956989\n",
      "Specificity :  0.8686131386861314\n"
     ]
    }
   ],
   "source": [
    "#checking the model using sensitivity and specificity\n",
    "total=sum(sum(confusion_matrix))\n",
    "\n",
    "sensitivity = confusion_matrix[0,0]/(confusion_matrix[0,0]+confusion_matrix[1,0])\n",
    "print('Sensitivity : ', sensitivity )\n",
    "\n",
    "specificity = confusion_matrix[1,1]/(confusion_matrix[1,1]+confusion_matrix[0,1])\n",
    "print('Specificity : ', specificity)"
   ]
  },
  {
   "cell_type": "markdown",
   "id": "8717c35f",
   "metadata": {},
   "source": [
    "Looks good"
   ]
  },
  {
   "cell_type": "code",
   "execution_count": 75,
   "id": "59066f68",
   "metadata": {},
   "outputs": [],
   "source": [
    "import sklearn\n",
    "new_features=df[['Age','Sex_M','ChestPainType_ATA','ChestPainType_TA',\n",
    "                       'ChestPainType_NAP','Cholesterol','RestingBP','MaxHR','RestingECG_Normal','RestingECG_ST',\n",
    "                      'ExerciseAngina_Y']]\n",
    "x=new_features.iloc[:,:-1]\n",
    "y=new_features.iloc[:,-1]\n",
    "x_train,x_test,y_train,y_test=train_test_split(x,y,test_size=.20,random_state=5)"
   ]
  },
  {
   "cell_type": "code",
   "execution_count": 76,
   "id": "4dbcb6d8",
   "metadata": {},
   "outputs": [],
   "source": [
    "from sklearn.linear_model import LogisticRegression\n",
    "logreg=LogisticRegression()\n",
    "logreg.fit(x_train,y_train)\n",
    "y_pred=logreg.predict(x_test)"
   ]
  },
  {
   "cell_type": "code",
   "execution_count": 77,
   "id": "08c47328",
   "metadata": {},
   "outputs": [
    {
     "data": {
      "text/plain": [
       "0.7554347826086957"
      ]
     },
     "execution_count": 77,
     "metadata": {},
     "output_type": "execute_result"
    }
   ],
   "source": [
    "sklearn.metrics.accuracy_score(y_test,y_pred)"
   ]
  },
  {
   "cell_type": "code",
   "execution_count": 79,
   "id": "6c260eae",
   "metadata": {},
   "outputs": [
    {
     "data": {
      "text/plain": [
       "<AxesSubplot:>"
      ]
     },
     "execution_count": 79,
     "metadata": {},
     "output_type": "execute_result"
    },
    {
     "data": {
      "image/png": "[encoded data removed]",
      "text/plain": [
       "<Figure size 800x500 with 2 Axes>"
      ]
     },
     "metadata": {},
     "output_type": "display_data"
    }
   ],
   "source": [
    "from sklearn.metrics import confusion_matrix\n",
    "import seaborn as sn\n",
    "cm=confusion_matrix(y_test,y_pred)\n",
    "conf_matrix=pd.DataFrame(data=cm,columns=['Predicted:0','Predicted:1'],index=['Actual:0','Actual:1'])\n",
    "plt.figure(figsize = (8,5))\n",
    "sn.heatmap(conf_matrix, annot=True,fmt='d',cmap=\"Blues\")"
   ]
  },
  {
   "cell_type": "markdown",
   "id": "dccf733c",
   "metadata": {},
   "source": [
    "True Positive(we predict our patient has Heart Disease and patient actually has it)-91\n",
    "\n",
    "True Negative (we predict our patient does not have Heart Disease and patient actually has it)-48\n",
    "\n",
    "False Positive(we predict our patient has Heart Disease and patient actually does not have it)-30\n",
    "\n",
    "False Negative(we predict our patient does not have Heart Disease and patient actually has it)-15"
   ]
  },
  {
   "cell_type": "markdown",
   "id": "6871a596",
   "metadata": {},
   "source": [
    "# Modeling"
   ]
  },
  {
   "cell_type": "code",
   "execution_count": 27,
   "id": "2aa55f38",
   "metadata": {},
   "outputs": [],
   "source": [
    "# Split Data into Train and Test\n",
    "from sklearn.model_selection import train_test_split\n",
    "from sklearn.utils import resample"
   ]
  },
  {
   "cell_type": "code",
   "execution_count": 28,
   "id": "f747673c",
   "metadata": {},
   "outputs": [],
   "source": [
    "#get dummies\n",
    "df = pd.get_dummies(df, drop_first=True)"
   ]
  },
  {
   "cell_type": "code",
   "execution_count": 29,
   "id": "d30330c3",
   "metadata": {},
   "outputs": [],
   "source": [
    "#Dividing dataset into features and Target variables\n",
    "X= df.loc[:, \"Age\": \"RestingBP\"]\n",
    "y = df[\"HeartDisease\"]"
   ]
  },
  {
   "cell_type": "code",
   "execution_count": 30,
   "id": "ff73a871",
   "metadata": {},
   "outputs": [
    {
     "data": {
      "text/html": [
       "<div>\n",
       "<style scoped>\n",
       "    .dataframe tbody tr th:only-of-type {\n",
       "        vertical-align: middle;\n",
       "    }\n",
       "\n",
       "    .dataframe tbody tr th {\n",
       "        vertical-align: top;\n",
       "    }\n",
       "\n",
       "    .dataframe thead th {\n",
       "        text-align: right;\n",
       "    }\n",
       "</style>\n",
       "<table border=\"1\" class=\"dataframe\">\n",
       "  <thead>\n",
       "    <tr style=\"text-align: right;\">\n",
       "      <th></th>\n",
       "      <th>Age</th>\n",
       "      <th>RestingBP</th>\n",
       "    </tr>\n",
       "  </thead>\n",
       "  <tbody>\n",
       "    <tr>\n",
       "      <th>0</th>\n",
       "      <td>40</td>\n",
       "      <td>140</td>\n",
       "    </tr>\n",
       "    <tr>\n",
       "      <th>1</th>\n",
       "      <td>49</td>\n",
       "      <td>160</td>\n",
       "    </tr>\n",
       "    <tr>\n",
       "      <th>2</th>\n",
       "      <td>37</td>\n",
       "      <td>130</td>\n",
       "    </tr>\n",
       "    <tr>\n",
       "      <th>3</th>\n",
       "      <td>48</td>\n",
       "      <td>138</td>\n",
       "    </tr>\n",
       "    <tr>\n",
       "      <th>4</th>\n",
       "      <td>54</td>\n",
       "      <td>150</td>\n",
       "    </tr>\n",
       "  </tbody>\n",
       "</table>\n",
       "</div>"
      ],
      "text/plain": [
       "   Age  RestingBP\n",
       "0   40        140\n",
       "1   49        160\n",
       "2   37        130\n",
       "3   48        138\n",
       "4   54        150"
      ]
     },
     "execution_count": 30,
     "metadata": {},
     "output_type": "execute_result"
    }
   ],
   "source": [
    "# checking X\n",
    "X.head()"
   ]
  },
  {
   "cell_type": "code",
   "execution_count": 31,
   "id": "daf1e5e0",
   "metadata": {},
   "outputs": [
    {
     "data": {
      "text/plain": [
       "0    0\n",
       "1    1\n",
       "2    0\n",
       "3    1\n",
       "4    0\n",
       "Name: HeartDisease, dtype: int64"
      ]
     },
     "execution_count": 31,
     "metadata": {},
     "output_type": "execute_result"
    }
   ],
   "source": [
    "# checking Y\n",
    "y.head()"
   ]
  },
  {
   "cell_type": "code",
   "execution_count": 32,
   "id": "73a97423",
   "metadata": {},
   "outputs": [],
   "source": [
    "def accuracy(actuals, preds):\n",
    "    return np.mean(actuals == preds)\n",
    "\n",
    "def precision(actuals, preds):\n",
    "    tp = np.sum((actuals == 1) & (preds == 1))\n",
    "    fp = np.sum((actuals == 0) & (preds == 1))\n",
    "    return tp / (tp + fp)\n",
    "\n",
    "def recall(actuals, preds):\n",
    "    tp = np.sum((actuals == 1) & (preds == 1))\n",
    "    fn = np.sum((actuals == 1) & (preds == 0))\n",
    "    return tp / (tp + fn)\n",
    "\n",
    "def F1(actuals, preds):\n",
    "    p, r = precision(actuals, preds), recall(actuals, preds)\n",
    "    return 2*p*r / (p + r)"
   ]
  },
  {
   "cell_type": "markdown",
   "id": "65bca6d1",
   "metadata": {},
   "source": [
    "Ratio Data is defined as quantitative data, having the same properties as interval data, with an equal and definitive ratio between each data and absolute “zero” being treated as a point of origin."
   ]
  },
  {
   "cell_type": "code",
   "execution_count": 33,
   "id": "a927d6e1",
   "metadata": {},
   "outputs": [
    {
     "name": "stdout",
     "output_type": "stream",
     "text": [
      "1    0.553377\n",
      "0    0.446623\n",
      "Name: HeartDisease, dtype: float64\n"
     ]
    },
    {
     "data": {
      "image/png": "[encoded data removed]",
      "text/plain": [
       "<Figure size 640x480 with 1 Axes>"
      ]
     },
     "metadata": {},
     "output_type": "display_data"
    }
   ],
   "source": [
    "from sklearn.preprocessing import StandardScaler\n",
    "target = df.HeartDisease.value_counts(normalize=True) \n",
    "print(target)\n",
    "sns.barplot(target.index, target.values)\n",
    "plt.title('Heart Disease Data Ratio')\n",
    "plt.ylabel('Percentage of Data', fontsize=12);"
   ]
  },
  {
   "cell_type": "markdown",
   "id": "09ab0be4",
   "metadata": {},
   "source": [
    "Spliting data into Train and Test "
   ]
  },
  {
   "cell_type": "code",
   "execution_count": 34,
   "id": "75111897",
   "metadata": {},
   "outputs": [
    {
     "data": {
      "text/plain": [
       "((734, 2), (734,))"
      ]
     },
     "execution_count": 34,
     "metadata": {},
     "output_type": "execute_result"
    }
   ],
   "source": [
    "#split our data. 80% of our data will be train data and 20% of it will be test data.\n",
    "X_train, X_test, y_train, y_test = train_test_split(X,y,test_size = 0.2,random_state=0)\n",
    "X_train.shape, y_train.shape"
   ]
  },
  {
   "cell_type": "code",
   "execution_count": 35,
   "id": "b4271da5",
   "metadata": {},
   "outputs": [],
   "source": [
    "X_train_rs, y_train_rs = X_train, y_train"
   ]
  },
  {
   "cell_type": "markdown",
   "id": "a21d730f",
   "metadata": {},
   "source": [
    "# Modiling"
   ]
  },
  {
   "cell_type": "markdown",
   "id": "a4db283e",
   "metadata": {},
   "source": [
    "For modeling: I used logistic regration, random forest, decision tree, stacking resembling for setting on rendomforest as the model with the best cross-validation perfomance, random forest feature importance ranking I used for guiding the choice anf order of variables to be included as the model underwent refinement"
   ]
  },
  {
   "cell_type": "markdown",
   "id": "7747684d",
   "metadata": {},
   "source": [
    "### Random Forest option #2"
   ]
  },
  {
   "cell_type": "markdown",
   "id": "ddc8f05f",
   "metadata": {},
   "source": [
    "A Gaussian classifier is a generative approach in the sense that it attempts to model class posterior as well as input class-conditional distribution. Therefore, we can generate new samples in input space with a Gaussian classifier."
   ]
  },
  {
   "cell_type": "code",
   "execution_count": 36,
   "id": "555e6797",
   "metadata": {},
   "outputs": [],
   "source": [
    "#importing some more libraries\n",
    "from sklearn.ensemble import RandomForestClassifier\n",
    "from sklearn.datasets import make_classification\n",
    "#creating a Gaussian Classifier\n",
    "random_forest_clf=rfc = RandomForestClassifier(n_estimators=100, n_jobs = -1,class_weight={0:1, 1:3},random_state =50 , min_samples_leaf = 10)\n",
    "rfc.fit(X_train_rs,y_train_rs)\n",
    "y_pred_rfc = random_forest_clf.predict(X_test)"
   ]
  },
  {
   "cell_type": "code",
   "execution_count": 37,
   "id": "fd2c435d",
   "metadata": {},
   "outputs": [
    {
     "name": "stdout",
     "output_type": "stream",
     "text": [
      "Cross-Validation Accuracy Scores [0.58108108 0.55405405 0.59459459 0.59459459 0.60273973 0.5890411\n",
      " 0.57534247 0.63013699 0.5890411  0.53424658]\n"
     ]
    }
   ],
   "source": [
    "#checking Cross-Validation Accuracy Scores\n",
    "scores = cross_val_score(random_forest_clf, X_train_rs, y_train_rs, cv=10)\n",
    "print('Cross-Validation Accuracy Scores', scores)"
   ]
  },
  {
   "cell_type": "markdown",
   "id": "45e16d4e",
   "metadata": {},
   "source": [
    "Cross Validation is a very useful technique for assessing the effectiveness of your model, particularly in cases where you need to mitigate over-fitting"
   ]
  },
  {
   "cell_type": "code",
   "execution_count": 38,
   "id": "09222cc4",
   "metadata": {},
   "outputs": [
    {
     "data": {
      "text/plain": [
       "(0.5342465753424658, 0.5844872269529804, 0.6301369863013698)"
      ]
     },
     "execution_count": 38,
     "metadata": {},
     "output_type": "execute_result"
    }
   ],
   "source": [
    "#Checking min, mean, and max score\n",
    "scores = pd.Series(scores)\n",
    "scores.min(), scores.mean(), scores.max()"
   ]
  },
  {
   "cell_type": "code",
   "execution_count": 39,
   "id": "5322d386",
   "metadata": {},
   "outputs": [
    {
     "name": "stdout",
     "output_type": "stream",
     "text": [
      "Random Forest validation metrics: \n",
      " Accuracy: 0.6033 \n",
      " Precision: 0.6024 \n",
      " Recall: 0.9346 \n",
      " F1: 0.7326\n"
     ]
    }
   ],
   "source": [
    "#Checking Accurancy,Precision,Recall,and F1\n",
    "print('Random Forest validation metrics: \\n Accuracy: %.4f \\n Precision: %.4f \\n Recall: %.4f \\n F1: %.4f' %\n",
    "        (accuracy(y_test, random_forest_clf.predict(X_test)), \n",
    "         precision(y_test, random_forest_clf.predict(X_test)), \n",
    "         recall(y_test, random_forest_clf.predict(X_test)),\n",
    "         F1(y_test, random_forest_clf.predict(X_test))\n",
    "        )\n",
    "     )"
   ]
  },
  {
   "cell_type": "markdown",
   "id": "61ccf1df",
   "metadata": {},
   "source": [
    "Accuracy is a measure of how well a model is able to predict the correct output for a given input. It is usually expressed as a percentage\n",
    "\n",
    "Precision defines how accurately a model can predict the true positive rate. It's calculated as the number of true positives divided by the total number of predicted positives\n",
    "\n",
    "Recall measures the model’s ability to classify all positive examples. It is calculated by taking the correctly identified positives, over all the actual positives in our dataset. Note the difference here from precision is that precision takes into account the predicted positives and false positives, whereas recall takes into the total number of actual positives from our dataset.\n",
    "\n",
    "The F1 score is the harmonic mean of precision and recall. In statistics, the harmonic mean is a type of average that is calculated by taking the reciprocal of the arithmetic mean of the reciprocals of a set of numbers. It is often used to average rates or ratios, such as speeds or grades.In the context of the F1 score, the harmonic mean is used to combine the precision and recall of a classifier into a single metric. The F1 score is defined as the harmonic mean of precision and recall, with a score of 1 being the best possible score and a score of 0 being the worst. The F1 score is often used as a balance between precision and recall."
   ]
  },
  {
   "cell_type": "code",
   "execution_count": 40,
   "id": "26d7809e",
   "metadata": {},
   "outputs": [
    {
     "name": "stdout",
     "output_type": "stream",
     "text": [
      "Parameters currently in use:\n",
      "\n",
      "{'bootstrap': True,\n",
      " 'ccp_alpha': 0.0,\n",
      " 'criterion': 'squared_error',\n",
      " 'max_depth': None,\n",
      " 'max_features': 'auto',\n",
      " 'max_leaf_nodes': None,\n",
      " 'max_samples': None,\n",
      " 'min_impurity_decrease': 0.0,\n",
      " 'min_samples_leaf': 1,\n",
      " 'min_samples_split': 2,\n",
      " 'min_weight_fraction_leaf': 0.0,\n",
      " 'n_estimators': 100,\n",
      " 'n_jobs': None,\n",
      " 'oob_score': False,\n",
      " 'random_state': 42,\n",
      " 'verbose': 0,\n",
      " 'warm_start': False}\n"
     ]
    }
   ],
   "source": [
    "from sklearn.ensemble import RandomForestRegressor\n",
    "rf = RandomForestRegressor(random_state = 42)\n",
    "from pprint import pprint\n",
    "# Look at parameters used by our current forest\n",
    "print('Parameters currently in use:\\n')\n",
    "pprint(rf.get_params())"
   ]
  },
  {
   "cell_type": "markdown",
   "id": "9c18e697",
   "metadata": {},
   "source": [
    "It returned the values of training parameters that are explicitly specified by the user. If all parameters are used with their default values, this function returns an empty dict."
   ]
  },
  {
   "cell_type": "markdown",
   "id": "bebfa825",
   "metadata": {},
   "source": [
    "## Random Hyperparameter Grid"
   ]
  },
  {
   "cell_type": "code",
   "execution_count": 41,
   "id": "9e497aa0",
   "metadata": {},
   "outputs": [
    {
     "name": "stdout",
     "output_type": "stream",
     "text": [
      "{'bootstrap': [True, False],\n",
      " 'max_depth': [10, 20, 30, 40, 50, 60, 70, 80, 90, 100, 110, None],\n",
      " 'max_features': ['auto', 'sqrt'],\n",
      " 'min_samples_leaf': [1, 2, 4],\n",
      " 'min_samples_split': [2, 5, 10],\n",
      " 'n_estimators': [200, 400, 600, 800, 1000, 1200, 1400, 1600, 1800, 2000]}\n"
     ]
    }
   ],
   "source": [
    "from sklearn.model_selection import RandomizedSearchCV\n",
    "\n",
    "#Number of Trees in random forest\n",
    "n_estimators= [int(x) for x in np.linspace(start =200, stop = 2000, num = 10)]\n",
    "\n",
    "#Number of features to consider at every split \n",
    "max_features = [\"auto\", \"sqrt\"]\n",
    "\n",
    "#Maximum number of levels in tree\n",
    "max_depth = [int(x) for x in np.linspace(10,110, num=11)]\n",
    "max_depth.append(None)\n",
    "\n",
    "#minimum number of samples required to split a node\n",
    "min_samples_split = [2, 5, 10]\n",
    "\n",
    "#minimum number of samples required at each leaf node\n",
    "min_samples_leaf = [1, 2, 4]\n",
    "\n",
    "#Method of selecting samples for training each tree\n",
    "bootstrap = [True, False]\n",
    "\n",
    "# Create the random grid\n",
    "random_grid = {'n_estimators': n_estimators,\n",
    "               'max_features': max_features,\n",
    "               'max_depth': max_depth,\n",
    "               'min_samples_split': min_samples_split,\n",
    "               'min_samples_leaf': min_samples_leaf,\n",
    "               'bootstrap': bootstrap}\n",
    "\n",
    "pprint(random_grid)"
   ]
  },
  {
   "cell_type": "markdown",
   "id": "6bdc9caf",
   "metadata": {},
   "source": [
    "bootstrap: If this is set as False, the whole dataset is used to build each tree, but it is set as Default.\n",
    "\n",
    "max_depth: The maximum depth of the tree - meaning the longest path between the root node and the leaf node.\n",
    "\n",
    "max_features{“sqrt”, “log2”, None}, int or float, default=”sqrt”}\n",
    "A Random Forest model can only have a maximum number of features in an individual tree. Many would assume that if you increase max_features, this will improve the overall performance of your model. However, this naturally decreases the diversity of individual trees which would also increase the time it took the model to produce outputs. Therefore, finding an optimal max_features is important to your model's performance.\n",
    "\n",
    "min_samples_leaf: This is the minimum number of samples required to be at a leaf node where the default = 1\n",
    "\n",
    "min_samples_leaf: This is the minimum number of samples required to be at a leaf node where the default = 1\n",
    "\n",
    "n_estimators : int, default=100\n",
    "This is the number of trees in the forest. As mentioned before, with an increase in the number of trees, the precision of the outcome increases - therefore better accuracy, and overfitting is reduced. However, this will make your model slower - therefore choosing an n_estimator value which your processor can handle allows your model to be more stable and perform well."
   ]
  },
  {
   "cell_type": "markdown",
   "id": "cf32a6e8",
   "metadata": {},
   "source": [
    "## Random Seach Training"
   ]
  },
  {
   "cell_type": "code",
   "execution_count": 42,
   "id": "76846832",
   "metadata": {},
   "outputs": [
    {
     "name": "stdout",
     "output_type": "stream",
     "text": [
      "Fitting 3 folds for each of 75 candidates, totalling 225 fits\n"
     ]
    },
    {
     "data": {
      "text/plain": [
       "RandomizedSearchCV(cv=3, estimator=RandomForestRegressor(), n_iter=75,\n",
       "                   n_jobs=-1,\n",
       "                   param_distributions={'bootstrap': [True, False],\n",
       "                                        'max_depth': [10, 20, 30, 40, 50, 60,\n",
       "                                                      70, 80, 90, 100, 110,\n",
       "                                                      None],\n",
       "                                        'max_features': ['auto', 'sqrt'],\n",
       "                                        'min_samples_leaf': [1, 2, 4],\n",
       "                                        'min_samples_split': [2, 5, 10],\n",
       "                                        'n_estimators': [200, 400, 600, 800,\n",
       "                                                         1000, 1200, 1400, 1600,\n",
       "                                                         1800, 2000]},\n",
       "                   random_state=42, verbose=2)"
      ]
     },
     "execution_count": 42,
     "metadata": {},
     "output_type": "execute_result"
    }
   ],
   "source": [
    "# Using the random grod to search for best hyperparameters\n",
    "#First creating the base model to tune\n",
    "rf = RandomForestRegressor()\n",
    "\n",
    "#Random search of parameters, using 3 fold cross validation \n",
    "#Searching across 100 different combinations, and using all available cores\n",
    "\n",
    "rf_random = RandomizedSearchCV(estimator = rf, param_distributions = random_grid,\n",
    "                              n_iter = 75,\n",
    "                              cv=3,\n",
    "                              verbose =2,\n",
    "                              random_state =42,\n",
    "                              n_jobs = -1)\n",
    "\n",
    "#Fit the random search model\n",
    "rf_random.fit(X_train_rs, y_train_rs)"
   ]
  },
  {
   "cell_type": "code",
   "execution_count": 43,
   "id": "93d0beb4",
   "metadata": {},
   "outputs": [
    {
     "data": {
      "text/plain": [
       "{'n_estimators': 800,\n",
       " 'min_samples_split': 10,\n",
       " 'min_samples_leaf': 4,\n",
       " 'max_features': 'sqrt',\n",
       " 'max_depth': 50,\n",
       " 'bootstrap': True}"
      ]
     },
     "execution_count": 43,
     "metadata": {},
     "output_type": "execute_result"
    }
   ],
   "source": [
    "#View the best Paramters from fitting the Random Search\n",
    "rf_random.best_params_"
   ]
  },
  {
   "cell_type": "markdown",
   "id": "8b880ff1",
   "metadata": {},
   "source": [
    "Now, I know the best Paramters from fitting the Random Search I will fit it into X_train_rs, y_train_rs and make my prediction model"
   ]
  },
  {
   "cell_type": "code",
   "execution_count": 45,
   "id": "84d25a82",
   "metadata": {},
   "outputs": [],
   "source": [
    "random_forest_clf=  RandomForestClassifier(n_estimators= 800,\n",
    "                                           min_samples_split= 10,\n",
    "                                           min_samples_leaf= 4,\n",
    "                                           max_features= 'sqrt',\n",
    "                                           max_depth= 50,\n",
    "                                           bootstrap= True)\n",
    "random_forest_clf.fit(X_train_rs, y_train_rs)\n",
    "y_pred_rfc = random_forest_clf.predict(X_test)"
   ]
  },
  {
   "cell_type": "code",
   "execution_count": 46,
   "id": "8462c4e1",
   "metadata": {},
   "outputs": [
    {
     "name": "stdout",
     "output_type": "stream",
     "text": [
      "Random Forest validation metrics: \n",
      " Accuracy: 0.6141 \n",
      " Precision: 0.6636 \n",
      " Recall: 0.6822 \n",
      " F1: 0.6728\n"
     ]
    }
   ],
   "source": [
    "#Checcking accurancy,precision,recall, and F1\n",
    "print('Random Forest validation metrics: \\n Accuracy: %.4f \\n Precision: %.4f \\n Recall: %.4f \\n F1: %.4f' %\n",
    "        (accuracy(y_test, random_forest_clf.predict(X_test)), \n",
    "         precision(y_test, random_forest_clf.predict(X_test)), \n",
    "         recall(y_test, random_forest_clf.predict(X_test)),\n",
    "         F1(y_test, random_forest_clf.predict(X_test))\n",
    "        )\n",
    "     )"
   ]
  },
  {
   "cell_type": "markdown",
   "id": "10e056bd",
   "metadata": {},
   "source": [
    "Here I can see not so good score. Recall is 68%"
   ]
  },
  {
   "cell_type": "code",
   "execution_count": 47,
   "id": "4bbf525e",
   "metadata": {},
   "outputs": [
    {
     "name": "stdout",
     "output_type": "stream",
     "text": [
      "Cross-Validation Accuracy Scores [0.58503401 0.6462585  0.65986395 0.65306122 0.60273973]\n"
     ]
    }
   ],
   "source": [
    "# Checking Cross-Validation Accuracy Scores\n",
    "scores = cross_val_score(random_forest_clf, X_train_rs, y_train_rs, cv=5)\n",
    "print('Cross-Validation Accuracy Scores', scores)"
   ]
  },
  {
   "cell_type": "code",
   "execution_count": 48,
   "id": "d5179683",
   "metadata": {},
   "outputs": [
    {
     "data": {
      "text/plain": [
       "(0.5850340136054422, 0.6293914826204453, 0.6598639455782312)"
      ]
     },
     "execution_count": 48,
     "metadata": {},
     "output_type": "execute_result"
    }
   ],
   "source": [
    "# hecking min, mean, and max scores\n",
    "scores = pd.Series(scores)\n",
    "scores.min(), scores.mean(), scores.max()"
   ]
  },
  {
   "cell_type": "markdown",
   "id": "5eec5d76",
   "metadata": {},
   "source": [
    "### Second option "
   ]
  },
  {
   "cell_type": "code",
   "execution_count": 49,
   "id": "9c466095",
   "metadata": {},
   "outputs": [],
   "source": [
    "random_forest_clf=  RandomForestClassifier(n_estimators= 800,\n",
    "                                           class_weight=\"balanced\",\n",
    "                                           min_samples_split= 10,\n",
    "                                           min_samples_leaf= 4,\n",
    "                                           max_features= 'sqrt',\n",
    "                                           max_depth= 50,\n",
    "                                           bootstrap= True)\n",
    "random_forest_clf.fit(X_train_rs, y_train_rs)\n",
    "y_pred_rfc = random_forest_clf.predict(X_test)"
   ]
  },
  {
   "cell_type": "code",
   "execution_count": 50,
   "id": "b6880661",
   "metadata": {},
   "outputs": [
    {
     "name": "stdout",
     "output_type": "stream",
     "text": [
      "confusion matrix: \n",
      "\n",
      " [  7  18   7   7  18  86  86  86  86  86   7  18 119   7  18 119 119   7\n",
      "   7  86   7   7 119 119  86  86 119 119  86  18   7  86  86  18 119  86\n",
      " 119  18 119  86  18   7   7  18 119  86  18   7 119   7   7  86  18   7\n",
      " 119  86   7  18 119  86   7   7   7  18   7 119   7   7 119  86 119   7\n",
      " 119 119 119   7 119  86   7  86  86   7  18  18 119  86  86   7 119  18\n",
      "  86 119  86   7 119  86 119  86  18  86 119 119  18   7 119   7  86  86\n",
      "  86 119  86 119  86 119 119   7 119  86 119   7 119 119 119  86  86 119\n",
      "  86   7  18 119 119 119  18 119 119   7  18 119  86  86 119 119  18   7\n",
      "  18  86 119 119   7 119   7 119  18  86  86  18 119 119 119  86 119   7\n",
      " 119  18 119  18 119  18 119 119 119   7  86  86   7  18  18 119  18 119\n",
      " 119   7  86 119]\n",
      "              precision    recall  f1-score   support\n",
      "\n",
      "           0       0.52      0.60      0.56        77\n",
      "           1       0.68      0.61      0.64       107\n",
      "\n",
      "    accuracy                           0.60       184\n",
      "   macro avg       0.60      0.60      0.60       184\n",
      "weighted avg       0.61      0.60      0.61       184\n",
      "\n"
     ]
    }
   ],
   "source": [
    "print(\"confusion matrix: \\n\\n\", \n",
    "      confusion_matrix[y_test, y_pred_rfc])\n",
    "\n",
    "print(classification_report(y_test, y_pred_rfc))"
   ]
  },
  {
   "cell_type": "code",
   "execution_count": 51,
   "id": "12fea823",
   "metadata": {},
   "outputs": [
    {
     "name": "stdout",
     "output_type": "stream",
     "text": [
      "Random Forest validation metrics: \n",
      " Accuracy: 0.6033 \n",
      " Precision: 0.6771 \n",
      " Recall: 0.6075 \n",
      " F1: 0.6404\n"
     ]
    }
   ],
   "source": [
    "print('Random Forest validation metrics: \\n Accuracy: %.4f \\n Precision: %.4f \\n Recall: %.4f \\n F1: %.4f' %\n",
    "        (accuracy(y_test, random_forest_clf.predict(X_test)), \n",
    "         precision(y_test, random_forest_clf.predict(X_test)), \n",
    "         recall(y_test, random_forest_clf.predict(X_test)),\n",
    "         F1(y_test, random_forest_clf.predict(X_test))\n",
    "        )\n",
    "     )"
   ]
  },
  {
   "cell_type": "markdown",
   "id": "04583ad5",
   "metadata": {},
   "source": [
    "This model is even worse Recall is 61%"
   ]
  },
  {
   "cell_type": "code",
   "execution_count": 52,
   "id": "2ce1be41",
   "metadata": {},
   "outputs": [
    {
     "name": "stdout",
     "output_type": "stream",
     "text": [
      "Cross-Validation Accuracy Scores [0.57823129 0.66666667 0.6462585  0.63945578 0.60958904]\n"
     ]
    }
   ],
   "source": [
    "scores = cross_val_score(random_forest_clf, X_train_rs, y_train_rs, cv=5)\n",
    "print('Cross-Validation Accuracy Scores', scores)\n"
   ]
  },
  {
   "cell_type": "code",
   "execution_count": 53,
   "id": "e5780b31",
   "metadata": {},
   "outputs": [
    {
     "data": {
      "text/plain": [
       "(0.5782312925170068, 0.62804025719877, 0.6666666666666666)"
      ]
     },
     "execution_count": 53,
     "metadata": {},
     "output_type": "execute_result"
    }
   ],
   "source": [
    "scores = pd.Series(scores)\n",
    "scores.min(), scores.mean(), scores.max()"
   ]
  },
  {
   "cell_type": "markdown",
   "id": "205b0e7c",
   "metadata": {},
   "source": [
    "### The third oprion"
   ]
  },
  {
   "cell_type": "code",
   "execution_count": 54,
   "id": "a66b8696",
   "metadata": {},
   "outputs": [],
   "source": [
    "random_forest_clf=  RandomForestClassifier(n_estimators= 800,\n",
    "                                           class_weight=\"balanced_subsample\",\n",
    "                                           min_samples_split= 10,\n",
    "                                           min_samples_leaf= 4,\n",
    "                                           max_features= 'sqrt',\n",
    "                                           max_depth= 50,\n",
    "                                           bootstrap= True)\n",
    "random_forest_clf.fit(X_train_rs, y_train_rs)\n",
    "y_pred_rfc = random_forest_clf.predict(X_test)"
   ]
  },
  {
   "cell_type": "code",
   "execution_count": 55,
   "id": "8504800e",
   "metadata": {},
   "outputs": [
    {
     "name": "stdout",
     "output_type": "stream",
     "text": [
      "confusion matrix: \n",
      "\n",
      " [  7  18   7   7  18  86  86  86  86  86   7  18 119   7  18 119 119   7\n",
      "   7  86   7   7 119 119  86  86 119 119  86  18   7  86  86  18 119  86\n",
      " 119  18 119  86  18   7   7  18 119  86  18   7 119   7   7  86  18   7\n",
      " 119  86   7  18 119  86   7   7   7  18   7 119   7   7 119  86 119   7\n",
      " 119 119 119   7 119  86   7  86  86   7  18  18 119  86  86   7 119  18\n",
      "  86 119  86   7 119  86 119  86  18  86 119 119  86   7   7   7  86  86\n",
      "  86 119  86 119  86 119 119 119 119  86 119   7 119 119 119  86  86 119\n",
      "  86   7  18 119 119 119  18 119 119   7  18 119  86  86 119 119  18   7\n",
      "  18  86 119 119   7 119   7 119  18  86  86  18 119 119 119  86 119   7\n",
      " 119  18 119  18 119  18 119 119 119   7  86  86   7  18  18 119  18 119\n",
      " 119   7  86 119]\n",
      "              precision    recall  f1-score   support\n",
      "\n",
      "           0       0.53      0.61      0.57        77\n",
      "           1       0.68      0.61      0.64       107\n",
      "\n",
      "    accuracy                           0.61       184\n",
      "   macro avg       0.61      0.61      0.60       184\n",
      "weighted avg       0.62      0.61      0.61       184\n",
      "\n"
     ]
    }
   ],
   "source": [
    "print(\"confusion matrix: \\n\\n\", \n",
    "      confusion_matrix[y_test, y_pred_rfc])\n",
    "\n",
    "print(classification_report(y_test, y_pred_rfc))"
   ]
  },
  {
   "cell_type": "code",
   "execution_count": 56,
   "id": "838d5229",
   "metadata": {},
   "outputs": [
    {
     "name": "stdout",
     "output_type": "stream",
     "text": [
      "Random Forest validation metrics: \n",
      " Accuracy: 0.6087 \n",
      " Precision: 0.6842 \n",
      " Recall: 0.6075 \n",
      " F1: 0.6436\n"
     ]
    }
   ],
   "source": [
    "print('Random Forest validation metrics: \\n Accuracy: %.4f \\n Precision: %.4f \\n Recall: %.4f \\n F1: %.4f' %\n",
    "        (accuracy(y_test, random_forest_clf.predict(X_test)), \n",
    "         precision(y_test, random_forest_clf.predict(X_test)), \n",
    "         recall(y_test, random_forest_clf.predict(X_test)),\n",
    "         F1(y_test, random_forest_clf.predict(X_test))\n",
    "        )\n",
    "     )"
   ]
  },
  {
   "cell_type": "markdown",
   "id": "a34c6c60",
   "metadata": {},
   "source": [
    "This model is also not good only 61%"
   ]
  },
  {
   "cell_type": "code",
   "execution_count": 57,
   "id": "e88fcfdf",
   "metadata": {},
   "outputs": [
    {
     "name": "stdout",
     "output_type": "stream",
     "text": [
      "Cross-Validation Accuracy Scores [0.57142857 0.65986395 0.6462585  0.63945578 0.60273973]\n"
     ]
    }
   ],
   "source": [
    "\n",
    "scores = cross_val_score(random_forest_clf, X_train_rs, y_train_rs, cv=5)\n",
    "print('Cross-Validation Accuracy Scores', scores)"
   ]
  },
  {
   "cell_type": "code",
   "execution_count": 58,
   "id": "ce9e113d",
   "metadata": {},
   "outputs": [
    {
     "data": {
      "text/plain": [
       "(0.5714285714285714, 0.623949305749697, 0.6598639455782312)"
      ]
     },
     "execution_count": 58,
     "metadata": {},
     "output_type": "execute_result"
    }
   ],
   "source": [
    "scores = pd.Series(scores)\n",
    "scores.min(), scores.mean(), scores.max()"
   ]
  },
  {
   "cell_type": "markdown",
   "id": "0b815398",
   "metadata": {},
   "source": [
    "### The fourth option"
   ]
  },
  {
   "cell_type": "code",
   "execution_count": 59,
   "id": "3a1e14b4",
   "metadata": {},
   "outputs": [],
   "source": [
    "random_forest_clf=  RandomForestClassifier(n_estimators= 800,\n",
    "                                           class_weight={0:1, 1:3.5},\n",
    "                                           min_samples_split= 10,\n",
    "                                           min_samples_leaf= 4,\n",
    "                                           max_features= 'sqrt',\n",
    "                                           max_depth= 50,\n",
    "                                           bootstrap= True)\n",
    "random_forest_clf.fit(X_train_rs, y_train_rs)\n",
    "y_pred_rfc = random_forest_clf.predict(X_test)"
   ]
  },
  {
   "cell_type": "code",
   "execution_count": 60,
   "id": "18f3b978",
   "metadata": {},
   "outputs": [
    {
     "name": "stdout",
     "output_type": "stream",
     "text": [
      "confusion matrix: \n",
      "\n",
      " [119  18 119 119  18  86  18  18  18  18 119  18 119 119  18 119 119 119\n",
      "   7  18 119   7 119 119  18  86 119 119  18  18 119  86  18  18 119  86\n",
      " 119  18 119  86  18 119 119  18 119  86  18 119 119 119 119  18  18 119\n",
      " 119  18   7  18 119  86 119 119 119  18 119 119 119 119 119  18 119   7\n",
      " 119 119 119   7 119  18 119  18  18   7  18  18 119  18  18   7 119  18\n",
      "  18 119  18 119 119  86 119  18  18  18 119 119  18 119 119   7  86  18\n",
      "  86 119  18 119  18 119 119 119 119  18 119   7 119 119 119  18  86 119\n",
      "  18   7  18 119 119 119  18 119 119 119  18 119  18  86 119 119  18 119\n",
      "  18  18 119 119   7 119 119 119  18  86  18  18 119 119 119  18 119   7\n",
      " 119  18 119  18 119  18 119 119 119 119  18  86 119  18  18 119  18 119\n",
      " 119 119  86 119]\n",
      "              precision    recall  f1-score   support\n",
      "\n",
      "           0       0.56      0.19      0.29        77\n",
      "           1       0.61      0.89      0.72       107\n",
      "\n",
      "    accuracy                           0.60       184\n",
      "   macro avg       0.58      0.54      0.50       184\n",
      "weighted avg       0.58      0.60      0.54       184\n",
      "\n"
     ]
    }
   ],
   "source": [
    "print(\"confusion matrix: \\n\\n\", \n",
    "      confusion_matrix[y_test, y_pred_rfc])\n",
    "\n",
    "print(classification_report(y_test, y_pred_rfc))"
   ]
  },
  {
   "cell_type": "code",
   "execution_count": 61,
   "id": "0f82ab21",
   "metadata": {},
   "outputs": [
    {
     "name": "stdout",
     "output_type": "stream",
     "text": [
      "Random Forest validation metrics: \n",
      " Accuracy: 0.5978 \n",
      " Precision: 0.6051 \n",
      " Recall: 0.8879 \n",
      " F1: 0.7197\n"
     ]
    }
   ],
   "source": [
    "print('Random Forest validation metrics: \\n Accuracy: %.4f \\n Precision: %.4f \\n Recall: %.4f \\n F1: %.4f' %\n",
    "        (accuracy(y_test, random_forest_clf.predict(X_test)), \n",
    "         precision(y_test, random_forest_clf.predict(X_test)), \n",
    "         recall(y_test, random_forest_clf.predict(X_test)),\n",
    "         F1(y_test, random_forest_clf.predict(X_test))\n",
    "        )\n",
    "     )"
   ]
  },
  {
   "cell_type": "markdown",
   "id": "5ed4fdf0",
   "metadata": {},
   "source": [
    "Finaly model #4 shows me a good score for Recall wich is 89%"
   ]
  },
  {
   "cell_type": "code",
   "execution_count": 62,
   "id": "792e69f1",
   "metadata": {},
   "outputs": [
    {
     "name": "stdout",
     "output_type": "stream",
     "text": [
      "Cross-Validation Accuracy Scores [0.55405405 0.52702703 0.62162162 0.62162162 0.64383562 0.60273973\n",
      " 0.57534247 0.61643836 0.60273973 0.5890411 ]\n"
     ]
    }
   ],
   "source": [
    "\n",
    "scores = cross_val_score(random_forest_clf, X_train_rs, y_train_rs, cv=10)\n",
    "print('Cross-Validation Accuracy Scores', scores)"
   ]
  },
  {
   "cell_type": "code",
   "execution_count": 63,
   "id": "f48a24d1",
   "metadata": {},
   "outputs": [
    {
     "data": {
      "text/plain": [
       "(0.527027027027027, 0.5954461310625694, 0.6438356164383562)"
      ]
     },
     "execution_count": 63,
     "metadata": {},
     "output_type": "execute_result"
    }
   ],
   "source": [
    "scores = pd.Series(scores)\n",
    "scores.min(), scores.mean(), scores.max()"
   ]
  },
  {
   "cell_type": "markdown",
   "id": "e0944f3f",
   "metadata": {},
   "source": [
    "# Evaluation"
   ]
  },
  {
   "cell_type": "markdown",
   "id": "402ff0a5",
   "metadata": {},
   "source": [
    "Next, I will check feature importance"
   ]
  },
  {
   "cell_type": "code",
   "execution_count": 64,
   "id": "583cf30c",
   "metadata": {},
   "outputs": [
    {
     "data": {
      "text/plain": [
       "array([0.57071598, 0.42928402])"
      ]
     },
     "execution_count": 64,
     "metadata": {},
     "output_type": "execute_result"
    }
   ],
   "source": [
    "from sklearn.ensemble import RandomForestRegressor\n",
    "from sklearn.inspection import permutation_importance\n",
    "from matplotlib import pyplot as plt\n",
    "random_forest_clf.feature_importances_"
   ]
  },
  {
   "cell_type": "markdown",
   "id": "8f197436",
   "metadata": {},
   "source": [
    "Feature Importance refers to techniques that calculate a score for all the input features for a given model — the scores simply represent the “importance” of each feature. A higher score means that the specific feature will have a larger effect on the model that is being used to predict a certain variable"
   ]
  },
  {
   "cell_type": "code",
   "execution_count": 65,
   "id": "559e6187",
   "metadata": {},
   "outputs": [
    {
     "data": {
      "text/plain": [
       "0.7282608695652174"
      ]
     },
     "execution_count": 65,
     "metadata": {},
     "output_type": "execute_result"
    }
   ],
   "source": [
    "#Test Scores on Holdout\n",
    "random_forest_clf.fit(X_test, y_test)\n",
    "random_forest_clf.score(X_test, y_test)"
   ]
  },
  {
   "cell_type": "markdown",
   "id": "64fca000",
   "metadata": {},
   "source": [
    " ROC AUC score tells us how efficient the model is. The higher the AUC, the better the model's performance at distinguishing between the positive and negative classes. An AUC score of 1 means the classifier can perfectly distinguish between all the Positive and the Negative class points."
   ]
  },
  {
   "cell_type": "code",
   "execution_count": 66,
   "id": "8f1be241",
   "metadata": {
    "scrolled": true
   },
   "outputs": [
    {
     "name": "stdout",
     "output_type": "stream",
     "text": [
      "ROC AUC score =  0.8927661123922805\n"
     ]
    },
    {
     "data": {
      "image/png": "[encoded data removed]",
      "text/plain": [
       "<Figure size 640x480 with 1 Axes>"
      ]
     },
     "metadata": {},
     "output_type": "display_data"
    }
   ],
   "source": [
    "from sklearn.metrics import roc_auc_score, roc_curve\n",
    "fpr, tpr, thresholds = roc_curve(y_test, random_forest_clf.predict_proba(X_test)[:,1])\n",
    "\n",
    "plt.plot(fpr, tpr,lw=2)\n",
    "plt.plot([0,1],[0,1],c='violet',ls='--')\n",
    "plt.xlim([-0.05,1.05])\n",
    "plt.ylim([-0.05,1.05])\n",
    "\n",
    "\n",
    "plt.xlabel('False positive rate')\n",
    "plt.ylabel('True positive rate')\n",
    "plt.title('ROC curve');\n",
    "print(\"ROC AUC score = \", roc_auc_score(y_test, random_forest_clf.predict_proba(X_test)[:,1]))"
   ]
  },
  {
   "cell_type": "markdown",
   "id": "3af29c6e",
   "metadata": {},
   "source": [
    "score of 0.9 means the classifier can almost perfectly distinguish between all the Positive and the Negative class points."
   ]
  },
  {
   "cell_type": "code",
   "execution_count": 67,
   "id": "e3a8fecf",
   "metadata": {},
   "outputs": [],
   "source": [
    "from sklearn.metrics import confusion_matrix\n",
    "def make_confusion_matrix(random_forest_clf, threshold=0.5):\n",
    "    # Predicting class 1 if probability of being in class 1 is greater than threshold\n",
    "    # (model.predict(X_test) does this automatically with a threshold of 0.5)\n",
    "    y_predict = (random_forest_clf.predict_proba(X_test)[:, 1] >= threshold)\n",
    "    HeartDisease_confusion = confusion_matrix(y_test, y_predict)\n",
    "    plt.figure(dpi=80)\n",
    "    sns.heatmap(HeartDisease_confusion, cmap=plt.cm.BuGn, annot=True, square=True, fmt='d',\n",
    "           xticklabels=['No HeartDisease', 'HeartDisease'],\n",
    "           yticklabels=['No HeartDisease', 'HeartDisease']);\n",
    "    plt.xlabel('Prediction')\n",
    "    plt.ylabel('Actual')"
   ]
  },
  {
   "cell_type": "code",
   "execution_count": 68,
   "id": "e1b6a4a9",
   "metadata": {},
   "outputs": [
    {
     "data": {
      "image/png": "[encoded data removed]",
      "text/plain": [
       "<Figure size 512x384 with 2 Axes>"
      ]
     },
     "metadata": {},
     "output_type": "display_data"
    }
   ],
   "source": [
    "make_confusion_matrix(random_forest_clf)"
   ]
  },
  {
   "cell_type": "markdown",
   "id": "2b29641f",
   "metadata": {},
   "source": [
    "True Positive(we predict our patient has Heart Disease and patient actually has it)-29\n",
    "\n",
    "True Negative (we predict our patient does not have Heart Disease and patient actually has it)-105\n",
    "\n",
    "False Positive(we predict our patient has Heart Disease and patient actually does not have it)-2\n",
    "\n",
    "False Negative(we predict our patient does not have Heart Disease and patient actually has it)-48"
   ]
  },
  {
   "cell_type": "markdown",
   "id": "40de5c9e",
   "metadata": {},
   "source": [
    "# Conclusions"
   ]
  },
  {
   "cell_type": "markdown",
   "id": "46f9d9ed",
   "metadata": {},
   "source": [
    "The whole dataset was aplit into 80/20 train/holdout. Prediction on 20% holdout were limited till the end. \n",
    "\n",
    "Mens getting Heart Disease much more often the females. Also we can see that age plays a large role in the development of Heart Disease.\n",
    "\n",
    "My model predicted with  \n",
    "\n",
    "Accuracy: 0.5978 \n",
    "\n",
    "Precision: 0.6051 \n",
    "\n",
    "Recall: 0.8879 \n",
    "\n",
    "F1: 0.7197\n",
    "\n",
    "Where Accuracy is a measure of how well a model is able to predict the correct output for a given input. It is usually expressed as a percentage\n",
    "\n",
    "Precision defines how accurately a model can predict the true positive rate. It's calculated as the number of true positives divided by the total number of predicted positives\n",
    "\n",
    "Recall measures the model’s ability to classify all positive examples. It is calculated by taking the correctly identified positives, over all the actual positives in our dataset. Note the difference here from precision is that precision takes into account the predicted positives and false positives, whereas recall takes into the total number of actual positives from our dataset.\n",
    "\n",
    "The F1 score is the harmonic mean of precision and recall. In statistics, the harmonic mean is a type of average that is calculated by taking the reciprocal of the arithmetic mean of the reciprocals of a set of numbers. It is often used to average rates or ratios, such as speeds or grades.In the context of the F1 score, the harmonic mean is used to combine the precision and recall of a classifier into a single metric. The F1 score is defined as the harmonic mean of precision and recall, with a score of 1 being the best possible score and a score of 0 being the worst. The F1 score is often used as a balance between precision and recall.\n",
    "\n",
    "The Area under the ROC curve is 0.89 which is good score.\n",
    "\n",
    " Overall model could be improved with more data."
   ]
  },
  {
   "cell_type": "markdown",
   "id": "a4048235",
   "metadata": {},
   "source": [
    "## Next Step"
   ]
  },
  {
   "cell_type": "markdown",
   "id": "d58d04e1",
   "metadata": {},
   "source": [
    "My next step would be to continue with developing model for better result. Use more data for better prediction."
   ]
  }
 ],
 "metadata": {
  "kernelspec": {
   "display_name": "Python (learn-env)",
   "language": "python",
   "name": "learn-env"
  },
  "language_info": {
   "codemirror_mode": {
    "name": "ipython",
    "version": 3
   },
   "file_extension": ".py",
   "mimetype": "text/x-python",
   "name": "python",
   "nbconvert_exporter": "python",
   "pygments_lexer": "ipython3",
   "version": "3.9.13"
  }
 },
 "nbformat": 4,
 "nbformat_minor": 5
}
